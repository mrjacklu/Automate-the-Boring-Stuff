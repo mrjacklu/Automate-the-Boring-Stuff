{
 "cells": [
  {
   "cell_type": "markdown",
   "metadata": {},
   "source": [
    "## 12. Writing a Program: 'Guess the Number'\n",
    "\n",
    "[Udemy - Section 5](https://www.udemy.com/course/automate/learn/lecture/3465826#overview)"
   ]
  },
  {
   "cell_type": "code",
   "execution_count": 1,
   "metadata": {},
   "outputs": [],
   "source": [
    "# This is a game called Guess the Number\n",
    "\n",
    "import random"
   ]
  },
  {
   "cell_type": "code",
   "execution_count": 2,
   "metadata": {},
   "outputs": [
    {
     "name": "stdout",
     "output_type": "stream",
     "text": [
      "Hello. What is your name?\n",
      "Jack\n",
      "Well, Jack, I am thinking of a between 1 and 20\n",
      "Take a guess.\n",
      "1\n",
      "Your guess is too low.\n",
      "Take a guess.\n",
      "10\n",
      "Your guess is too high\n",
      "Take a guess.\n",
      "5\n",
      "Your guess is too low.\n",
      "Take a guess.\n",
      "8\n",
      "Your guess is too high\n",
      "Take a guess.\n",
      "7\n",
      "Your guess is too high\n",
      "Take a guess.\n",
      "6\n",
      "Good job, Jack! You guessed my number in 6 guesses!\n"
     ]
    }
   ],
   "source": [
    "# Ask for the player's name.\n",
    "\n",
    "print('Hello. What is your name?')\n",
    "name = input()\n",
    "\n",
    "# Print name.\n",
    "\n",
    "print('Well, ' + name + ', I am thinking of a between 1 and 20')\n",
    "\n",
    "# Ask the player to guess the number 6 times\n",
    "\n",
    "secretNum = random.randint(1, 20)\n",
    "\n",
    "for guessesTaken in range(1, 7):\n",
    "    print('Take a guess.')\n",
    "    guess = int(input())\n",
    "    \n",
    "    if guess < secretNum:\n",
    "        print('Your guess is too low.')\n",
    "    elif guess > secretNum:\n",
    "        print('Your guess is too high')\n",
    "    else:\n",
    "        break #this condition executes when the guess is correct!\n",
    "\n",
    "if guess == secretNum:\n",
    "    print('Good job, ' + name + '! You guessed my number in ' + str(guessesTaken) + ' guesses!')\n",
    "\n",
    "else:\n",
    "    print('Nope. The number I was thinking of is ' + str(secretNum) + '.')"
   ]
  },
  {
   "cell_type": "code",
   "execution_count": null,
   "metadata": {},
   "outputs": [],
   "source": []
  }
 ],
 "metadata": {
  "kernelspec": {
   "display_name": "Python 3",
   "language": "python",
   "name": "python3"
  },
  "language_info": {
   "codemirror_mode": {
    "name": "ipython",
    "version": 3
   },
   "file_extension": ".py",
   "mimetype": "text/x-python",
   "name": "python",
   "nbconvert_exporter": "python",
   "pygments_lexer": "ipython3",
   "version": "3.7.3"
  }
 },
 "nbformat": 4,
 "nbformat_minor": 2
}
